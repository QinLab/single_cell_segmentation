{
 "cells": [
  {
   "cell_type": "code",
   "execution_count": 1,
   "metadata": {
    "scrolled": false
   },
   "outputs": [
    {
     "name": "stderr",
     "output_type": "stream",
     "text": [
      "/Users/cnb331/anaconda3/lib/python3.6/site-packages/h5py/__init__.py:36: FutureWarning: Conversion of the second argument of issubdtype from `float` to `np.floating` is deprecated. In future, it will be treated as `np.float64 == np.dtype(float).type`.\n",
      "  from ._conv import register_converters as _register_converters\n",
      "Using TensorFlow backend.\n"
     ]
    }
   ],
   "source": [
    "import numpy as np\n",
    "import pandas as pd\n",
    "\n",
    "import sys\n",
    "import cv2   #opencv-python\n",
    "#from skimage.io import imread, imread_collection\n",
    "from scipy import signal\n",
    "import scipy.misc\n",
    "from scipy.misc import imread\n",
    "from scipy.ndimage import filters,distance_transform_edt\n",
    "from matplotlib import pyplot as plt\n",
    "\n",
    "import os\n",
    "from os import listdir\n",
    "\n",
    "from keras.models import Model\n",
    "from keras import optimizers\n",
    "from keras.layers import Input,Activation,Conv2D, MaxPooling2D, UpSampling2D, BatchNormalization,Dropout"
   ]
  },
  {
   "cell_type": "code",
   "execution_count": 8,
   "metadata": {},
   "outputs": [
    {
     "data": {
      "text/plain": [
       "['train_test_data',\n",
       " 'training_data',\n",
       " 'CCA_evaluation',\n",
       " 'T47D_weight_file',\n",
       " 'pixel_evaluation']"
      ]
     },
     "execution_count": 8,
     "metadata": {},
     "output_type": "execute_result"
    }
   ],
   "source": [
    "listdir('/Users/cnb331/github/single_cell_segmentation/T47D_fluorescence')"
   ]
  },
  {
   "cell_type": "code",
   "execution_count": 12,
   "metadata": {},
   "outputs": [],
   "source": [
    "#dir_path='/home/zoro/Desktop/nmumg_data'\n",
    "dir_path ='/Users/cnb331/github/single_cell_segmentation/T47D_fluorescence'#blueberry, works\n",
    "#dir_path ='/Users/cnb331/github/single_cell_segmentation/NMuMg_phase_contrast'#blueberry, works\n",
    "\n",
    "main_path=dir_path+'/train_test_data/distance_transform'\n",
    "path_train_input =main_path+'/train/Img'\n",
    "path_test_input=main_path+'/test/Img'\n",
    "path_train_gt = main_path+'/train/Bwdist'\n",
    "path_test_gt=main_path+'/test/Bwdist'\n",
    "\n",
    "listdir(path_train_input)\n",
    "\n",
    "path_predict=dir_path+'/predict'\n",
    "path_output=dir_path+'/output'\n",
    "path_frcnn_predict=dir_path+'/frcnn_predict'\n",
    "\n",
    "nb_epoch =3\n",
    "batch_size = 10\n",
    "weight_file='T47D_reg_ep300.hdf5'"
   ]
  },
  {
   "cell_type": "code",
   "execution_count": 13,
   "metadata": {},
   "outputs": [
    {
     "data": {
      "text/plain": [
       "['crop1002t1xy12c2s7.tif',\n",
       " 'crop1002t1xy14c2s13.tif',\n",
       " 'crop1002t1xy03c2s2.tif',\n",
       " 'crop1002t1xy13c2s2.tif',\n",
       " 'crop1002t1xy13c2s3.tif',\n",
       " 'crop1002t1xy03c2s3.tif',\n",
       " 'crop1002t1xy14c2s12.tif',\n",
       " 'crop1002t1xy02c2s6.tif',\n",
       " 'crop1002t1xy12c2s6.tif',\n",
       " 'crop1002t1xy02c2s4.tif',\n",
       " 'crop1002t1xy12c2s4.tif',\n",
       " 'crop1002t1xy14c2s10.tif',\n",
       " 'crop1002t1xy13c2s1.tif',\n",
       " 'crop1002t1xy03c2s1.tif',\n",
       " 'crop1002t1xy03c2s0.tif',\n",
       " 'crop1002t1xy13c2s0.tif',\n",
       " 'crop1002t1xy14c2s11.tif',\n",
       " 'crop1002t1xy12c2s5.tif',\n",
       " 'crop1002t1xy02c2s5.tif',\n",
       " 'crop1002t1xy02c2s1.tif',\n",
       " 'crop1002t1xy12c2s1.tif',\n",
       " 'crop1002t1xy14c2s15.tif',\n",
       " 'crop1002t1xy13c2s4.tif',\n",
       " 'crop1002t1xy03c2s4.tif',\n",
       " 'crop1002t1xy03c2s5.tif',\n",
       " 'crop1002t1xy13c2s5.tif',\n",
       " 'crop1002t1xy14c2s14.tif',\n",
       " 'crop1002t1xy12c2s0.tif',\n",
       " 'crop1002t1xy02c2s0.tif',\n",
       " 'crop1002t1xy12c2s2.tif',\n",
       " 'crop1002t1xy02c2s2.tif',\n",
       " 'crop1002t1xy14c2s16.tif',\n",
       " 'crop1002t1xy03c2s7.tif',\n",
       " 'crop1002t1xy03c2s6.tif',\n",
       " 'crop1002t1xy14c2s17.tif',\n",
       " 'crop1002t1xy02c2s3.tif',\n",
       " 'crop1002t1xy12c2s3.tif',\n",
       " 'crop1002t1xy09c2s2.tif',\n",
       " 'crop1002t1xy14c2s9.tif',\n",
       " 'crop1002t1xy04c2s9.tif',\n",
       " 'crop1002t1xy10c2s1.tif',\n",
       " 'crop1002t1xy01c2s4.tif',\n",
       " 'crop1002t1xy01c2s5.tif',\n",
       " 'crop1002t1xy10c2s0.tif',\n",
       " 'crop1002t1xy08c2s6.tif',\n",
       " 'crop1002t1xy04c2s8.tif',\n",
       " 'crop1002t1xy14c2s8.tif',\n",
       " 'crop1002t1xy09c2s3.tif',\n",
       " 'crop1002t1xy09c2s1.tif',\n",
       " 'crop1002t1xy08c2s4.tif',\n",
       " 'crop1002t1xy10c2s2.tif',\n",
       " 'crop1002t1xy05c2s10.tif',\n",
       " 'crop1002t1xy01c2s7.tif',\n",
       " 'crop1002t1xy04c2s10.tif',\n",
       " 'crop1002t1xy01c2s6.tif',\n",
       " 'crop1002t1xy10c2s3.tif',\n",
       " 'crop1002t1xy08c2s5.tif',\n",
       " 'crop1002t1xy09c2s0.tif',\n",
       " 'crop1002t1xy09c2s4.tif',\n",
       " 'crop1002t1xy08c2s1.tif',\n",
       " 'crop1002t1xy10c2s7.tif',\n",
       " 'crop1002t1xy11c2s2.tif',\n",
       " 'crop1002t1xy01c2s2.tif',\n",
       " 'crop1002t1xy01c2s3.tif',\n",
       " 'crop1002t1xy11c2s3.tif',\n",
       " 'crop1002t1xy10c2s6.tif',\n",
       " 'crop1002t1xy08c2s0.tif',\n",
       " 'crop1002t1xy09c2s5.tif',\n",
       " 'crop1002t1xy09c2s7.tif',\n",
       " 'crop1002t1xy05c2s9.tif',\n",
       " 'crop1002t1xy08c2s2.tif',\n",
       " 'crop1002t1xy10c2s4.tif',\n",
       " 'crop1002t1xy01c2s1.tif',\n",
       " 'crop1002t1xy11c2s1.tif',\n",
       " 'crop1002t1xy11c2s0.tif',\n",
       " 'crop1002t1xy01c2s0.tif',\n",
       " 'crop1002t1xy10c2s5.tif',\n",
       " 'crop1002t1xy08c2s3.tif',\n",
       " 'crop1002t1xy05c2s8.tif',\n",
       " 'crop1002t1xy09c2s6.tif',\n",
       " 'crop1002t1xy04c2s0.tif',\n",
       " 'crop1002t1xy14c2s0.tif',\n",
       " 'crop1002t1xy15c2s5.tif',\n",
       " 'crop1002t1xy05c2s5.tif',\n",
       " 'crop1002t1xy10c2s8.tif',\n",
       " 'crop1002t1xy10c2s9.tif',\n",
       " 'crop1002t1xy05c2s4.tif',\n",
       " 'crop1002t1xy15c2s4.tif',\n",
       " 'crop1002t1xy14c2s1.tif',\n",
       " 'crop1002t1xy04c2s1.tif',\n",
       " 'crop1002t1xy14c2s3.tif',\n",
       " 'crop1002t1xy04c2s3.tif',\n",
       " 'crop1002t1xy05c2s6.tif',\n",
       " 'crop1002t1xy05c2s7.tif',\n",
       " 'crop1002t1xy04c2s2.tif',\n",
       " 'crop1002t1xy14c2s2.tif',\n",
       " 'crop1002t1xy14c2s6.tif',\n",
       " 'crop1002t1xy04c2s6.tif',\n",
       " 'crop1002t1xy05c2s3.tif',\n",
       " 'crop1002t1xy15c2s3.tif',\n",
       " 'crop1002t1xy15c2s2.tif',\n",
       " 'crop1002t1xy05c2s2.tif',\n",
       " 'crop1002t1xy04c2s7.tif',\n",
       " 'crop1002t1xy14c2s7.tif',\n",
       " 'crop1002t1xy04c2s5.tif',\n",
       " 'crop1002t1xy14c2s5.tif',\n",
       " 'crop1002t1xy15c2s0.tif',\n",
       " 'crop1002t1xy05c2s0.tif',\n",
       " 'crop1002t1xy01c2s8.tif',\n",
       " 'crop1002t1xy05c2s1.tif',\n",
       " 'crop1002t1xy15c2s1.tif',\n",
       " 'crop1002t1xy14c2s4.tif',\n",
       " 'crop1002t1xy04c2s4.tif',\n",
       " 'crop1002t1xy10c2s10.tif',\n",
       " 'crop1002t1xy07c2s3.tif',\n",
       " 'crop1002t1xy07c2s2.tif',\n",
       " 'crop1002t1xy10c2s11.tif',\n",
       " 'crop1002t1xy03c2s8.tif',\n",
       " 'crop1002t1xy07c2s0.tif',\n",
       " 'crop1002t1xy07c2s1.tif',\n",
       " 'crop1002t1xy06c2s4.tif',\n",
       " 'crop1002t1xy10c2s12.tif',\n",
       " 'crop1002t1xy12c2s8.tif',\n",
       " 'crop1002t1xy06c2s0.tif',\n",
       " 'crop1002t1xy07c2s5.tif',\n",
       " 'crop1002t1xy07c2s4.tif',\n",
       " 'crop1002t1xy06c2s1.tif',\n",
       " 'crop1002t1xy06c2s3.tif',\n",
       " 'crop1002t1xy07c2s6.tif',\n",
       " 'crop1002t1xy07c2s7.tif',\n",
       " 'crop1002t1xy06c2s2.tif']"
      ]
     },
     "execution_count": 13,
     "metadata": {},
     "output_type": "execute_result"
    }
   ],
   "source": [
    "listdir(path_train_input)\n",
    "#dir(listdir)"
   ]
  },
  {
   "cell_type": "code",
   "execution_count": 14,
   "metadata": {},
   "outputs": [],
   "source": [
    "#As this is a regression problem, train_label should be also normalized.\n",
    "def prep_data(path_img,path_gt):\n",
    "    data = []\n",
    "    label = []\n",
    "\n",
    "    img_list = sorted(listdir(path_img))\n",
    "    gt_list=sorted(listdir(path_gt))\n",
    "    i=0\n",
    "    while (i<len(img_list)):\n",
    "        img = np.array(imread(path_img +'/'+ img_list[i]),dtype=np.float64)\n",
    "        #img = np.array(imread(path_img +'/'+ img_list[i]))\n",
    "        #print img.shape\n",
    "        img=(img-np.amin(img))*1.0/(np.amax(img)-np.amin(img))#img*1.0 transform array to double\n",
    "        img=img*1.0/np.median(img)\n",
    "        img_h=img.shape[0]        \n",
    "        img_w=img.shape[1]        \n",
    "        img=np.reshape(img,(img_h,img_w,1))         \n",
    "        data.append(img)  \n",
    "        \n",
    "        gt =np.array(imread(path_gt + '/'+ gt_list[i]))\n",
    "#---------------with or without normalization-----------------------        \n",
    "        if np.count_nonzero(gt)!=0:\n",
    "            nonzero_gt=gt[gt>0]\n",
    "            gt=gt*1.0/np.median(nonzero_gt)\n",
    "\n",
    "        gt=np.reshape(gt,(img_h,img_w,1))\n",
    "        label.append(gt)\n",
    "        \n",
    "        i+=1\n",
    "    data=np.array(data)\n",
    "    label=np.array(label) \n",
    "    print (data.shape, label.shape)\n",
    "    return data, label     "
   ]
  },
  {
   "cell_type": "code",
   "execution_count": 15,
   "metadata": {},
   "outputs": [],
   "source": [
    "def prep_prediction_data(path_img):\n",
    "    data = []\n",
    "    img_list = sorted(listdir(path_img))\n",
    "    i=0\n",
    "    while (i<len(img_list)):\n",
    "        img = np.array(imread(path_img +'/'+ img_list[i]),dtype=np.float64)\n",
    "        img=(img-np.amin(img))*1.0/(np.amax(img)-np.amin(img))#img*1.0 transform array to double\n",
    "        img=img*1.0/np.median(img)\n",
    "        img_h=img.shape[0]        \n",
    "        img_w=img.shape[1]\n",
    "        img=np.reshape(img,(img_h,img_w,1))\n",
    "        data.append(img)\n",
    "        i+=1\n",
    "    data=np.array(data)\n",
    "    return data"
   ]
  },
  {
   "cell_type": "code",
   "execution_count": 16,
   "metadata": {},
   "outputs": [],
   "source": [
    "def conv_block(input_tensor, kernel, filters):\n",
    "    x=Conv2D(filters, (kernel, kernel), padding='same')(input_tensor)\n",
    "    x=BatchNormalization()(x)\n",
    "    x=Activation('relu')(x)\n",
    "    return x"
   ]
  },
  {
   "cell_type": "code",
   "execution_count": 17,
   "metadata": {},
   "outputs": [
    {
     "name": "stdout",
     "output_type": "stream",
     "text": [
      "Compiled: OK\n"
     ]
    }
   ],
   "source": [
    "kernel = 3\n",
    "#------------encoder layers--------------------------------\n",
    "inputs = Input((None,None, 1))\n",
    "conv1=conv_block(inputs,kernel,filters=64)\n",
    "conv1=conv_block(conv1,kernel,filters=64)\n",
    "pool1=MaxPooling2D()(conv1)\n",
    "    \n",
    "conv2=conv_block(pool1,kernel,filters=128)\n",
    "conv2=conv_block(conv2,kernel,filters=128)\n",
    "pool2=MaxPooling2D()(conv2)\n",
    "\n",
    "conv3=conv_block(pool2,kernel,filters=256)\n",
    "conv3=conv_block(conv3,kernel,filters=256)\n",
    "conv3=conv_block(conv3,kernel,filters=256)\n",
    "pool3=MaxPooling2D()(conv3)\n",
    "\n",
    "conv4=conv_block(pool3,kernel,filters=512)\n",
    "conv4=conv_block(conv4,kernel,filters=512)\n",
    "conv4=conv_block(conv4,kernel,filters=512)\n",
    "pool4=MaxPooling2D()(conv4)\n",
    " \n",
    "conv5=conv_block(pool4,kernel,filters=512)\n",
    "conv5=conv_block(conv5,kernel,filters=512)\n",
    "conv5=conv_block(conv5,kernel,filters=512)\n",
    "pool5=MaxPooling2D()(conv5)\n",
    "\n",
    "\n",
    "#--------------------decoder layers--------------------------\n",
    "\n",
    "up6=UpSampling2D()(pool5)\n",
    "conv6=conv_block(up6,kernel,filters=512)\n",
    "conv6=conv_block(conv6,kernel,filters=512)\n",
    "conv6=conv_block(conv6,kernel,filters=512)\n",
    "\n",
    "up7=UpSampling2D()(conv6)\n",
    "conv7=conv_block(up7,kernel,filters=512)\n",
    "conv7=conv_block(conv7,kernel,filters=512)\n",
    "conv7=conv_block(conv7,kernel,filters=512)\n",
    "    \n",
    "up8=UpSampling2D()(conv7)\n",
    "conv8=conv_block(up8,kernel,filters=256)\n",
    "conv8=conv_block(conv8,kernel,filters=256)\n",
    "conv8=conv_block(conv8,kernel,filters=256)\n",
    "\n",
    "up9=UpSampling2D()(conv8)\n",
    "conv9=conv_block(up9,kernel,filters=128)\n",
    "conv9=conv_block(conv9,kernel,filters=128)\n",
    "\n",
    "up10=UpSampling2D()(conv9)\n",
    "conv10=conv_block(up10,kernel,filters=64)\n",
    "\n",
    "conv11=conv_block(conv10,kernel=1,filters=1)    \n",
    "outputs=Activation('relu')(conv11)\n",
    "\n",
    "autoencoder=Model(inputs=[inputs], outputs=[outputs])\n",
    "\n",
    "#autoencoder.summary()\n",
    "\n",
    "autoencoder.compile(loss=\"mean_squared_error\", optimizer='adam', metrics=['mae','acc'])\n",
    "print ('Compiled: OK')"
   ]
  },
  {
   "cell_type": "code",
   "execution_count": 18,
   "metadata": {},
   "outputs": [
    {
     "name": "stderr",
     "output_type": "stream",
     "text": [
      "/Users/cnb331/anaconda3/lib/python3.6/site-packages/ipykernel_launcher.py:10: DeprecationWarning: `imread` is deprecated!\n",
      "`imread` is deprecated in SciPy 1.0.0, and will be removed in 1.2.0.\n",
      "Use ``imageio.imread`` instead.\n",
      "  # Remove the CWD from sys.path while we load stuff.\n",
      "/Users/cnb331/anaconda3/lib/python3.6/site-packages/ipykernel_launcher.py:20: DeprecationWarning: `imread` is deprecated!\n",
      "`imread` is deprecated in SciPy 1.0.0, and will be removed in 1.2.0.\n",
      "Use ``imageio.imread`` instead.\n"
     ]
    },
    {
     "name": "stdout",
     "output_type": "stream",
     "text": [
      "(131, 256, 256, 1) (131, 256, 256, 1)\n"
     ]
    }
   ],
   "source": [
    "train_data, train_label = prep_data(path_train_input,path_train_gt)"
   ]
  },
  {
   "cell_type": "code",
   "execution_count": 19,
   "metadata": {},
   "outputs": [
    {
     "name": "stdout",
     "output_type": "stream",
     "text": [
      "Epoch 1/3\n",
      "131/131 [==============================] - 693s 5s/step - loss: 0.8525 - mean_absolute_error: 0.6246 - acc: 0.2660\n",
      "Epoch 2/3\n",
      "131/131 [==============================] - 714s 5s/step - loss: 0.7018 - mean_absolute_error: 0.5635 - acc: 0.2788\n",
      "Epoch 3/3\n",
      "131/131 [==============================] - 711s 5s/step - loss: 0.6124 - mean_absolute_error: 0.5237 - acc: 0.2963\n"
     ]
    }
   ],
   "source": [
    "#---------------------train-------------------------\n",
    "history=autoencoder.fit(train_data, train_label, batch_size=batch_size, epochs=nb_epoch, verbose=1)\n",
    "autoencoder.save_weights(weight_file)"
   ]
  },
  {
   "cell_type": "code",
   "execution_count": 26,
   "metadata": {},
   "outputs": [
    {
     "name": "stdout",
     "output_type": "stream",
     "text": [
      "/Users/cnb331/github/single_cell_segmentation/T47D_fluorescence/predict\n"
     ]
    },
    {
     "data": {
      "text/plain": [
       "['Img', 'Bwdist']"
      ]
     },
     "execution_count": 26,
     "metadata": {},
     "output_type": "execute_result"
    }
   ],
   "source": [
    "print(path_predict)\n",
    "\n",
    "listdir(path_predict)"
   ]
  },
  {
   "cell_type": "code",
   "execution_count": 31,
   "metadata": {},
   "outputs": [
    {
     "name": "stderr",
     "output_type": "stream",
     "text": [
      "/Users/cnb331/anaconda3/lib/python3.6/site-packages/ipykernel_launcher.py:6: DeprecationWarning: `imread` is deprecated!\n",
      "`imread` is deprecated in SciPy 1.0.0, and will be removed in 1.2.0.\n",
      "Use ``imageio.imread`` instead.\n",
      "  \n",
      "/Users/cnb331/anaconda3/lib/python3.6/site-packages/ipykernel_launcher.py:8: RuntimeWarning: divide by zero encountered in true_divide\n",
      "  \n",
      "/Users/cnb331/anaconda3/lib/python3.6/site-packages/ipykernel_launcher.py:8: RuntimeWarning: invalid value encountered in true_divide\n",
      "  \n"
     ]
    },
    {
     "name": "stdout",
     "output_type": "stream",
     "text": [
      "<class 'numpy.ndarray'>\n",
      "(13, 256, 256, 1)\n",
      "(256, 256)\n"
     ]
    },
    {
     "name": "stderr",
     "output_type": "stream",
     "text": [
      "/Users/cnb331/anaconda3/lib/python3.6/site-packages/ipykernel_launcher.py:17: DeprecationWarning: `imsave` is deprecated!\n",
      "`imsave` is deprecated in SciPy 1.0.0, and will be removed in 1.2.0.\n",
      "Use ``imageio.imwrite`` instead.\n",
      "/Users/cnb331/anaconda3/lib/python3.6/site-packages/ipykernel_launcher.py:20: DeprecationWarning: `toimage` is deprecated!\n",
      "`toimage` is deprecated in SciPy 1.0.0, and will be removed in 1.2.0.\n",
      "Use Pillow's ``Image.fromarray`` directly instead.\n"
     ]
    },
    {
     "data": {
      "image/png": "[encoded data removed]",
      "text/plain": [
       "<Figure size 432x288 with 1 Axes>"
      ]
     },
     "metadata": {},
     "output_type": "display_data"
    }
   ],
   "source": [
    "#-------------------predict----------------------------\n",
    "#autoencoder.load_weights(weight_file)\n",
    "autoencoder.load_weights(\"/Users/cnb331/github/single_cell_segmentation/T47D_fluorescence/T47D_weight_file/T47D_reg_ep300.hdf5\")\n",
    "\n",
    "predict_data=prep_prediction_data(path_predict)\n",
    "output = autoencoder.predict(predict_data, verbose=0)\n",
    "print(type(output))\n",
    "print(output.shape)\n",
    "\n",
    "#output_label=np.argmax(output[0],axis=-1)\n",
    "im=output[0][:,:,0]   \n",
    "np.save(path_output+'/reg_out.npy',im)\n",
    "data=np.load(path_output+'/reg_out.npy')\n",
    "print(im.shape)\n",
    "\n",
    "#save image to 8 bit\n",
    "scipy.misc.imsave(path_output+'/reg_out_8bit.png',im)\n",
    "#save image to the exat value\n",
    "\n",
    "img=scipy.misc.toimage(im,high=np.max(im),low=np.min(im),mode='F')\n",
    "img.save(path_output+'/reg_out_exact.tif')\n",
    "img.save(path_frcnn_predict+'/reg_out_exact.tif')\n",
    "plt.imshow(im)\n",
    "plt.axis('off')\n",
    "plt.savefig(path_output+'/reg_out_300dpi.tif',bbox_inches='tight',format='tif',dpi=300)\n",
    "plt.show()"
   ]
  },
  {
   "cell_type": "code",
   "execution_count": 28,
   "metadata": {},
   "outputs": [
    {
     "data": {
      "text/plain": [
       "'/Users/cnb331/github/single_cell_segmentation/T47D_fluorescence'"
      ]
     },
     "execution_count": 28,
     "metadata": {},
     "output_type": "execute_result"
    }
   ],
   "source": [
    "dir_path"
   ]
  },
  {
   "cell_type": "code",
   "execution_count": null,
   "metadata": {},
   "outputs": [],
   "source": []
  }
 ],
 "metadata": {
  "anaconda-cloud": {},
  "kernelspec": {
   "display_name": "Python 3",
   "language": "python",
   "name": "python3"
  },
  "language_info": {
   "codemirror_mode": {
    "name": "ipython",
    "version": 3
   },
   "file_extension": ".py",
   "mimetype": "text/x-python",
   "name": "python",
   "nbconvert_exporter": "python",
   "pygments_lexer": "ipython3",
   "version": "3.6.5"
  }
 },
 "nbformat": 4,
 "nbformat_minor": 1
}
